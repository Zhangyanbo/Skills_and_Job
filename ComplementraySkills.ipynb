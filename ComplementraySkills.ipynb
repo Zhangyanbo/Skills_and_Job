{
 "cells": [
  {
   "cell_type": "code",
   "execution_count": 9,
   "metadata": {
    "ExecuteTime": {
     "end_time": "2019-07-09T12:45:50.845339Z",
     "start_time": "2019-07-09T12:45:50.840486Z"
    }
   },
   "outputs": [],
   "source": [
    "import pandas as pd\n",
    "import re\n",
    "import csv\n",
    "import numpy as np\n",
    "#import sklearn as skl\n",
    "#from sklearn.cluster import KMeans\n",
    "import torch\n",
    "import torch.nn as nn\n",
    "import torch.nn.functional as F\n",
    "import torch.utils.data as dataset\n",
    "import torch.optim as optim\n",
    "\n",
    "import seaborn as sb\n",
    "\n",
    "import json"
   ]
  },
  {
   "cell_type": "markdown",
   "metadata": {},
   "source": [
    "# 预处理"
   ]
  },
  {
   "cell_type": "code",
   "execution_count": 2,
   "metadata": {
    "ExecuteTime": {
     "end_time": "2019-07-09T12:41:09.880516Z",
     "start_time": "2019-07-09T12:41:04.635725Z"
    }
   },
   "outputs": [],
   "source": [
    "# 导入技能、收入数据\n",
    "skillJobData = pd.read_pickle('./data/kate_data/PNAS_workerdataframe_v4.pkl')"
   ]
  },
  {
   "cell_type": "code",
   "execution_count": 3,
   "metadata": {
    "ExecuteTime": {
     "end_time": "2019-07-09T12:41:13.418722Z",
     "start_time": "2019-07-09T12:41:13.240606Z"
    }
   },
   "outputs": [],
   "source": [
    "# 所有技能\n",
    "all_skills = skillJobData.skills\n",
    "\n",
    "all_skill_keys = {}\n",
    "\n",
    "# 获取不重复的、所有技能的词汇表\n",
    "for skill_list in all_skills:\n",
    "    for skill in skill_list:\n",
    "        for skill_word in re.split('-|/', skill):\n",
    "            if skill_word in all_skill_keys:\n",
    "                all_skill_keys[skill_word] += 1\n",
    "            else:\n",
    "                all_skill_keys[skill_word] = 1\n",
    "            "
   ]
  },
  {
   "cell_type": "code",
   "execution_count": 25,
   "metadata": {
    "ExecuteTime": {
     "end_time": "2019-07-09T12:55:47.769861Z",
     "start_time": "2019-07-09T12:55:47.720238Z"
    }
   },
   "outputs": [],
   "source": [
    "# 所有技能\n",
    "all_skills = skillJobData.skills\n",
    "\n",
    "all_skill_keys = {}\n",
    "\n",
    "# 获取不重复的、所有技能的词汇表\n",
    "for skill_list in all_skills:\n",
    "    for skill in skill_list:\n",
    "        if skill.lower() in all_skill_keys:\n",
    "            all_skill_keys[skill.lower()] += 1\n",
    "        else:\n",
    "            all_skill_keys[skill.lower()] = 1\n",
    "            "
   ]
  },
  {
   "cell_type": "code",
   "execution_count": 26,
   "metadata": {
    "ExecuteTime": {
     "end_time": "2019-07-09T12:55:50.409938Z",
     "start_time": "2019-07-09T12:55:50.304899Z"
    }
   },
   "outputs": [
    {
     "data": {
      "text/plain": [
       "<matplotlib.axes._subplots.AxesSubplot at 0x7fab7da0fb70>"
      ]
     },
     "execution_count": 26,
     "metadata": {},
     "output_type": "execute_result"
    },
    {
     "data": {
      "image/png": "[encoded data removed]",
      "text/plain": [
       "<Figure size 432x288 with 1 Axes>"
      ]
     },
     "metadata": {
      "needs_background": "light"
     },
     "output_type": "display_data"
    }
   ],
   "source": [
    "# 查看数据分布\n",
    "sb.distplot(np.log(np.array(list(all_skill_keys.values()))))"
   ]
  },
  {
   "cell_type": "code",
   "execution_count": 27,
   "metadata": {
    "ExecuteTime": {
     "end_time": "2019-07-09T12:55:52.725315Z",
     "start_time": "2019-07-09T12:55:52.720374Z"
    }
   },
   "outputs": [
    {
     "data": {
      "text/plain": [
       "2197"
      ]
     },
     "execution_count": 27,
     "metadata": {},
     "output_type": "execute_result"
    }
   ],
   "source": [
    "len(all_skill_keys.values())"
   ]
  },
  {
   "cell_type": "code",
   "execution_count": 28,
   "metadata": {
    "ExecuteTime": {
     "end_time": "2019-07-09T12:55:57.116706Z",
     "start_time": "2019-07-09T12:55:57.110235Z"
    }
   },
   "outputs": [
    {
     "name": "stdout",
     "output_type": "stream",
     "text": [
      "total skills 1612\n"
     ]
    }
   ],
   "source": [
    "# 清除出现次数<3的技能\n",
    "n_count = 0\n",
    "skill_index = {} #技能编码\n",
    "\n",
    "for skill, count in zip(all_skill_keys.keys(), all_skill_keys.values()):\n",
    "    if count > 3:\n",
    "        skill_index[skill] = n_count\n",
    "        n_count += 1\n",
    "\n",
    "print('total skills', n_count)\n",
    "\n",
    "# 存储为json文件\n",
    "skill_json = json.dumps(skill_index)\n",
    "f = open(\"./data/all_skills.json\",\"w\")\n",
    "f.write(skill_json)\n",
    "f.close()"
   ]
  },
  {
   "cell_type": "markdown",
   "metadata": {},
   "source": [
    "# 构建训练集"
   ]
  },
  {
   "cell_type": "code",
   "execution_count": 62,
   "metadata": {
    "ExecuteTime": {
     "end_time": "2019-07-09T13:22:46.670901Z",
     "start_time": "2019-07-09T13:22:46.666493Z"
    }
   },
   "outputs": [],
   "source": [
    "def skill2index(skill_list):\n",
    "    indexs = []\n",
    "    for skill in skill_list:\n",
    "        if (skill in skill_index):\n",
    "            indexs.append(skill_index[skill])\n",
    "    return indexs"
   ]
  },
  {
   "cell_type": "code",
   "execution_count": 64,
   "metadata": {
    "ExecuteTime": {
     "end_time": "2019-07-09T13:22:53.251966Z",
     "start_time": "2019-07-09T13:22:53.246736Z"
    }
   },
   "outputs": [
    {
     "data": {
      "text/plain": [
       "[74, 39]"
      ]
     },
     "execution_count": 64,
     "metadata": {},
     "output_type": "execute_result"
    }
   ],
   "source": [
    "skill2index(['css','html'])"
   ]
  },
  {
   "cell_type": "code",
   "execution_count": 92,
   "metadata": {
    "ExecuteTime": {
     "end_time": "2019-07-09T13:34:53.013856Z",
     "start_time": "2019-07-09T13:34:52.972246Z"
    }
   },
   "outputs": [],
   "source": [
    "incomes = skillJobData.log_realized_wage # 所有人收入\n",
    "\n",
    "skill_index_list = list(map(skill2index, all_skills))\n",
    "income_list = list(incomes)\n",
    "\n",
    "trainingData = pd.DataFrame({'skill_indexs':skill_index_list, 'log_income':income_list}) #构建数据集\n",
    "trainingData = trainingData.dropna() #清除NaN\n",
    "trainingData = trainingData[trainingData['skill_indexs'].apply(lambda x: len(x)>0)] #清除无技能者\n",
    "\n",
    "trainingData.to_pickle('./data/training.pkl')"
   ]
  },
  {
   "cell_type": "markdown",
   "metadata": {},
   "source": [
    "# 导入训练集"
   ]
  },
  {
   "cell_type": "code",
   "execution_count": 94,
   "metadata": {
    "ExecuteTime": {
     "end_time": "2019-07-09T13:36:08.822699Z",
     "start_time": "2019-07-09T13:36:08.815082Z"
    }
   },
   "outputs": [],
   "source": [
    "trainingData = pd.read_pickle('./data/training.pkl')"
   ]
  },
  {
   "cell_type": "code",
   "execution_count": 96,
   "metadata": {
    "ExecuteTime": {
     "end_time": "2019-07-09T13:36:17.252037Z",
     "start_time": "2019-07-09T13:36:17.243552Z"
    }
   },
   "outputs": [
    {
     "data": {
      "text/html": [
       "<div>\n",
       "<style scoped>\n",
       "    .dataframe tbody tr th:only-of-type {\n",
       "        vertical-align: middle;\n",
       "    }\n",
       "\n",
       "    .dataframe tbody tr th {\n",
       "        vertical-align: top;\n",
       "    }\n",
       "\n",
       "    .dataframe thead th {\n",
       "        text-align: right;\n",
       "    }\n",
       "</style>\n",
       "<table border=\"1\" class=\"dataframe\">\n",
       "  <thead>\n",
       "    <tr style=\"text-align: right;\">\n",
       "      <th></th>\n",
       "      <th>skill_indexs</th>\n",
       "      <th>log_income</th>\n",
       "    </tr>\n",
       "  </thead>\n",
       "  <tbody>\n",
       "    <tr>\n",
       "      <th>1</th>\n",
       "      <td>[10, 11, 12, 4, 13, 14, 15, 16, 17]</td>\n",
       "      <td>2.498563</td>\n",
       "    </tr>\n",
       "    <tr>\n",
       "      <th>2</th>\n",
       "      <td>[18]</td>\n",
       "      <td>3.178054</td>\n",
       "    </tr>\n",
       "    <tr>\n",
       "      <th>3</th>\n",
       "      <td>[19, 20, 21, 22]</td>\n",
       "      <td>2.407846</td>\n",
       "    </tr>\n",
       "    <tr>\n",
       "      <th>5</th>\n",
       "      <td>[27, 28, 29, 30, 31, 32, 33, 34]</td>\n",
       "      <td>1.673976</td>\n",
       "    </tr>\n",
       "    <tr>\n",
       "      <th>6</th>\n",
       "      <td>[35, 36, 37, 38, 39, 40, 15, 7, 8]</td>\n",
       "      <td>1.187843</td>\n",
       "    </tr>\n",
       "    <tr>\n",
       "      <th>7</th>\n",
       "      <td>[27, 41, 42, 33, 43, 22, 44, 8, 45, 9]</td>\n",
       "      <td>2.630089</td>\n",
       "    </tr>\n",
       "    <tr>\n",
       "      <th>8</th>\n",
       "      <td>[30, 46, 47, 22, 48, 49]</td>\n",
       "      <td>2.484907</td>\n",
       "    </tr>\n",
       "    <tr>\n",
       "      <th>10</th>\n",
       "      <td>[11, 52, 13, 53, 54, 55, 56, 57]</td>\n",
       "      <td>3.443512</td>\n",
       "    </tr>\n",
       "    <tr>\n",
       "      <th>11</th>\n",
       "      <td>[58, 59, 60, 61, 42, 33, 62, 63, 64]</td>\n",
       "      <td>1.463255</td>\n",
       "    </tr>\n",
       "  </tbody>\n",
       "</table>\n",
       "</div>"
      ],
      "text/plain": [
       "                              skill_indexs  log_income\n",
       "1      [10, 11, 12, 4, 13, 14, 15, 16, 17]    2.498563\n",
       "2                                     [18]    3.178054\n",
       "3                         [19, 20, 21, 22]    2.407846\n",
       "5         [27, 28, 29, 30, 31, 32, 33, 34]    1.673976\n",
       "6       [35, 36, 37, 38, 39, 40, 15, 7, 8]    1.187843\n",
       "7   [27, 41, 42, 33, 43, 22, 44, 8, 45, 9]    2.630089\n",
       "8                 [30, 46, 47, 22, 48, 49]    2.484907\n",
       "10        [11, 52, 13, 53, 54, 55, 56, 57]    3.443512\n",
       "11    [58, 59, 60, 61, 42, 33, 62, 63, 64]    1.463255"
      ]
     },
     "execution_count": 96,
     "metadata": {},
     "output_type": "execute_result"
    }
   ],
   "source": [
    "trainingData[1:10]"
   ]
  },
  {
   "cell_type": "code",
   "execution_count": null,
   "metadata": {},
   "outputs": [],
   "source": []
  }
 ],
 "metadata": {
  "kernelspec": {
   "display_name": "Python 3",
   "language": "python",
   "name": "python3"
  },
  "language_info": {
   "codemirror_mode": {
    "name": "ipython",
    "version": 3
   },
   "file_extension": ".py",
   "mimetype": "text/x-python",
   "name": "python",
   "nbconvert_exporter": "python",
   "pygments_lexer": "ipython3",
   "version": "3.7.1"
  },
  "toc": {
   "base_numbering": 1,
   "nav_menu": {},
   "number_sections": true,
   "sideBar": true,
   "skip_h1_title": false,
   "title_cell": "Table of Contents",
   "title_sidebar": "Contents",
   "toc_cell": false,
   "toc_position": {},
   "toc_section_display": true,
   "toc_window_display": false
  }
 },
 "nbformat": 4,
 "nbformat_minor": 2
}
