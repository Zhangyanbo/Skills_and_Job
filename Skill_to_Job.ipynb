{
 "cells": [
  {
   "cell_type": "markdown",
   "metadata": {},
   "source": [
    "# 基本思路\n",
    "\n",
    "使用word2vec技术，在词汇空间标注技能。然后用k-means方法，将技能聚类成固定的n个，用以表示一个人的技能。\n",
    "然后用神经网络，根据n个技能标记，预测一个人的收入\n",
    "\n",
    "word2vec库：[GloVe](https://github.com/stanfordnlp/GloVe)"
   ]
  },
  {
   "cell_type": "markdown",
   "metadata": {},
   "source": [
    "# 代码流程\n",
    "\n",
    "**第一次运行：**\n",
    "\n",
    "1. 先运行`导入数据`中`导入技能、收入数据`的代码，导入原始技能、收入数据\n",
    "2. 然后依次运行`Load Word Vectors`中的代码，最终得到所有词的词向量`skill_vecs.csv`\n",
    "\n",
    "**构造训练数据**\n",
    "\n",
    "运行「构造训练数据」中的代码，将训练数据存为`./data/train_data.csv`\n",
    "\n",
    "**训练**\n",
    "1. 导入`./data/train_data.csv`（参见`构造训练数据 - # 导入训练数据`），将数据存入skill_shapes和incomes中。\n",
    "2. 运行NN中的一系列代码"
   ]
  },
  {
   "cell_type": "markdown",
   "metadata": {},
   "source": [
    "# 导入库"
   ]
  },
  {
   "cell_type": "code",
   "execution_count": 1,
   "metadata": {
    "ExecuteTime": {
     "end_time": "2019-06-19T09:18:38.992578Z",
     "start_time": "2019-06-19T09:18:38.410314Z"
    }
   },
   "outputs": [],
   "source": [
    "import pandas as pd\n",
    "import re\n",
    "import csv\n",
    "import numpy as np\n",
    "import sklearn as skl\n",
    "from sklearn.cluster import KMeans\n",
    "import torch\n",
    "import torch.nn as nn\n",
    "import torch.nn.functional as F\n",
    "import torch.utils.data as dataset\n",
    "import torch.optim as optim\n",
    "import seaborn as sb"
   ]
  },
  {
   "cell_type": "markdown",
   "metadata": {},
   "source": [
    "# 数据预处理"
   ]
  },
  {
   "cell_type": "markdown",
   "metadata": {},
   "source": [
    "## 词向量预处理\n",
    "\n",
    "筛选出现了的词向量、为特殊词汇指定词向量"
   ]
  },
  {
   "cell_type": "code",
   "execution_count": 105,
   "metadata": {},
   "outputs": [
    {
     "name": "stdout",
     "output_type": "stream",
     "text": [
      "1193514\n"
     ]
    }
   ],
   "source": [
    "# 导入词向量\n",
    "wvec_head = ['word'] + list(range(25)) # 表头\n",
    "#vec_data=pd.read_csv('./data/word_vec/glove.twitter.27B.25d.txt', sep=' ', index_col=0, header=None, names=wvec_head, nrows=10)\n",
    "# 导入数据\n",
    "vec_data=pd.read_csv('./data/word_vec/glove.twitter.27B.25d.txt', sep=' ', index_col=0, header=None, names=wvec_head, error_bad_lines=False, quoting=csv.QUOTE_NONE)\n",
    "print(len(vec_data))"
   ]
  },
  {
   "cell_type": "code",
   "execution_count": 106,
   "metadata": {},
   "outputs": [],
   "source": [
    "indexs = vec_data.index # index即为词\n",
    "word_dic=dict([[word, loc] for word,loc in zip(indexs, range(len(indexs)))]) # 构造查询词典"
   ]
  },
  {
   "cell_type": "code",
   "execution_count": 108,
   "metadata": {},
   "outputs": [
    {
     "data": {
      "text/plain": [
       "1193513"
      ]
     },
     "execution_count": 108,
     "metadata": {},
     "output_type": "execute_result"
    }
   ],
   "source": [
    "# 数据库大小\n",
    "len(word_dic)"
   ]
  },
  {
   "cell_type": "code",
   "execution_count": 59,
   "metadata": {
    "ExecuteTime": {
     "end_time": "2019-06-06T08:17:12.402240Z",
     "start_time": "2019-06-06T08:17:12.234083Z"
    }
   },
   "outputs": [],
   "source": [
    "# 所有技能\n",
    "all_skills = skillJobData.skills\n",
    "\n",
    "all_skill_keys = {}\n",
    "\n",
    "# 获取不重复的、所有技能的词汇表\n",
    "for skill_list in all_skills:\n",
    "    for skill in skill_list:\n",
    "        for skill_word in re.split('-|/', skill):\n",
    "            if skill_word in all_skill_keys:\n",
    "                all_skill_keys[skill_word] += 1\n",
    "            else:\n",
    "                all_skill_keys[skill_word] = 1\n",
    "            "
   ]
  },
  {
   "cell_type": "code",
   "execution_count": 114,
   "metadata": {},
   "outputs": [],
   "source": [
    "# 将找到的词存储下来\n",
    "# 若词有对应的词向量，则存在vecs中\n",
    "# 若没有，则存入unfound_words中，准备进一步处理\n",
    "\n",
    "vecs = {}\n",
    "unfound_words = {}\n",
    "\n",
    "for word in all_skill_keys.keys():\n",
    "    if word in word_dic:\n",
    "        vecs[word] = list(vec_data.iloc[word_dic[word]])\n",
    "    else:\n",
    "        unfound_words[word] = all_skill_keys[word]"
   ]
  },
  {
   "cell_type": "code",
   "execution_count": 139,
   "metadata": {},
   "outputs": [
    {
     "data": {
      "text/plain": [
       "1721"
      ]
     },
     "execution_count": 139,
     "metadata": {},
     "output_type": "execute_result"
    }
   ],
   "source": [
    "len(vecs)"
   ]
  },
  {
   "cell_type": "code",
   "execution_count": 112,
   "metadata": {},
   "outputs": [
    {
     "data": {
      "text/plain": [
       "370"
      ]
     },
     "execution_count": 112,
     "metadata": {},
     "output_type": "execute_result"
    }
   ],
   "source": [
    "# 词库中没有的技能\n",
    "len(unfound_words)"
   ]
  },
  {
   "cell_type": "code",
   "execution_count": 138,
   "metadata": {},
   "outputs": [
    {
     "data": {
      "text/plain": [
       "{'3d': 1692,\n",
       " 'c#': 1574,\n",
       " 'html5': 1509,\n",
       " 'css3': 1202,\n",
       " '.net': 944,\n",
       " '2d': 325,\n",
       " 'j2ee': 314,\n",
       " '3': 201,\n",
       " 'ec2': 119,\n",
       " 'win32': 119,\n",
       " 'extjs': 107,\n",
       " 'quarkxpress': 106,\n",
       " '4d': 102}"
      ]
     },
     "execution_count": 138,
     "metadata": {},
     "output_type": "execute_result"
    }
   ],
   "source": [
    "# 准备处理常见的无词向量的词\n",
    "unfound_words_list = list(zip(unfound_words.keys(),unfound_words.values()))\n",
    "unfound_words_list.sort(key=(lambda x:x[1]), reverse=True)\n",
    "dict(unfound_words_list[:13])"
   ]
  },
  {
   "cell_type": "code",
   "execution_count": 141,
   "metadata": {},
   "outputs": [],
   "source": [
    "# 手动设定特殊词汇的词向量\n",
    "vecs['c#'] = vecs['c']\n",
    "vecs['html5'] = vecs['html']\n",
    "vecs['css3'] = vecs['css']\n",
    "vecs['win32'] = vecs['windows']"
   ]
  },
  {
   "cell_type": "code",
   "execution_count": 145,
   "metadata": {},
   "outputs": [],
   "source": [
    "# 存储词向量数据\n",
    "skill_vecs = pd.DataFrame(vecs)\n",
    "skill_vecs.to_csv('./data/skill_vecs.csv')"
   ]
  },
  {
   "cell_type": "markdown",
   "metadata": {},
   "source": [
    "## 构造技能画像、生成训练数据"
   ]
  },
  {
   "cell_type": "markdown",
   "metadata": {},
   "source": [
    "### 导入数据"
   ]
  },
  {
   "cell_type": "code",
   "execution_count": 2,
   "metadata": {
    "ExecuteTime": {
     "end_time": "2019-06-06T07:29:19.432536Z",
     "start_time": "2019-06-06T07:29:19.316207Z"
    }
   },
   "outputs": [],
   "source": [
    "# 导入技能词的词向量\n",
    "skill_vecs = pd.read_csv('./data/skill_vecs.csv', index_col=0)\n",
    "vecs = skill_vecs.to_dict(orient='list')"
   ]
  },
  {
   "cell_type": "code",
   "execution_count": 3,
   "metadata": {
    "ExecuteTime": {
     "end_time": "2019-06-06T07:29:47.466159Z",
     "start_time": "2019-06-06T07:29:42.138810Z"
    }
   },
   "outputs": [],
   "source": [
    "# 导入技能、收入数据\n",
    "skillJobData = pd.read_pickle('./data/kate_data/PNAS_workerdataframe_v4.pkl')"
   ]
  },
  {
   "cell_type": "markdown",
   "metadata": {},
   "source": [
    "### 预览原始数据"
   ]
  },
  {
   "cell_type": "code",
   "execution_count": 4,
   "metadata": {},
   "outputs": [
    {
     "data": {
      "text/html": [
       "<div>\n",
       "<style scoped>\n",
       "    .dataframe tbody tr th:only-of-type {\n",
       "        vertical-align: middle;\n",
       "    }\n",
       "\n",
       "    .dataframe tbody tr th {\n",
       "        vertical-align: top;\n",
       "    }\n",
       "\n",
       "    .dataframe thead th {\n",
       "        text-align: right;\n",
       "    }\n",
       "</style>\n",
       "<table border=\"1\" class=\"dataframe\">\n",
       "  <thead>\n",
       "    <tr style=\"text-align: right;\">\n",
       "      <th></th>\n",
       "      <th>city</th>\n",
       "      <th>country</th>\n",
       "      <th>description</th>\n",
       "      <th>feedbacks</th>\n",
       "      <th>hourly_rate</th>\n",
       "      <th>hours_worked</th>\n",
       "      <th>jobs_worked</th>\n",
       "      <th>last_active</th>\n",
       "      <th>portfolio</th>\n",
       "      <th>private</th>\n",
       "      <th>...</th>\n",
       "      <th>log_requested_wage</th>\n",
       "      <th>log_realized_wage</th>\n",
       "      <th>cp_num_USwork_groups_morethan1</th>\n",
       "      <th>cp_num_nonUSwork_groups_morethan1</th>\n",
       "      <th>cp_num_USwork_groups_trunc</th>\n",
       "      <th>cp_num_nonUSwork_groups_trunc</th>\n",
       "      <th>cp_num_USwork_groups_trunc3</th>\n",
       "      <th>cp_num_nonUSwork_groups_trunc3</th>\n",
       "      <th>cp_single_USgroup</th>\n",
       "      <th>cp_single_nonUSgroup</th>\n",
       "    </tr>\n",
       "  </thead>\n",
       "  <tbody>\n",
       "    <tr>\n",
       "      <th>~010004a03173568fbf</th>\n",
       "      <td>Mykolaiv</td>\n",
       "      <td>Ukraine</td>\n",
       "      <td>Hey! \\n\\nI am Dmitry, and I am experienced dev...</td>\n",
       "      <td>2.0</td>\n",
       "      <td>26.00</td>\n",
       "      <td>974.000000</td>\n",
       "      <td>2.0</td>\n",
       "      <td>Apr 09 86</td>\n",
       "      <td>0.0</td>\n",
       "      <td>False</td>\n",
       "      <td>...</td>\n",
       "      <td>3.258097</td>\n",
       "      <td>2.498563</td>\n",
       "      <td>2</td>\n",
       "      <td>2</td>\n",
       "      <td>2</td>\n",
       "      <td>3</td>\n",
       "      <td>2</td>\n",
       "      <td>3</td>\n",
       "      <td>NaN</td>\n",
       "      <td>NaN</td>\n",
       "    </tr>\n",
       "    <tr>\n",
       "      <th>~01000625aff3ab5e04</th>\n",
       "      <td>Kharkiv</td>\n",
       "      <td>Ukraine</td>\n",
       "      <td>I'm a lead of a small mobile team of skilled d...</td>\n",
       "      <td>2.0</td>\n",
       "      <td>24.00</td>\n",
       "      <td>100.000000</td>\n",
       "      <td>2.0</td>\n",
       "      <td>Aug 13 94</td>\n",
       "      <td>0.0</td>\n",
       "      <td>False</td>\n",
       "      <td>...</td>\n",
       "      <td>3.178054</td>\n",
       "      <td>3.178054</td>\n",
       "      <td>1</td>\n",
       "      <td>1</td>\n",
       "      <td>1</td>\n",
       "      <td>1</td>\n",
       "      <td>1</td>\n",
       "      <td>1</td>\n",
       "      <td>1.0</td>\n",
       "      <td>2.0</td>\n",
       "    </tr>\n",
       "    <tr>\n",
       "      <th>~010006ca29e70cb78d</th>\n",
       "      <td>Durand</td>\n",
       "      <td>United States</td>\n",
       "      <td>.</td>\n",
       "      <td>19.0</td>\n",
       "      <td>13.33</td>\n",
       "      <td>18.833333</td>\n",
       "      <td>22.0</td>\n",
       "      <td>Apr 29 10</td>\n",
       "      <td>0.0</td>\n",
       "      <td>False</td>\n",
       "      <td>...</td>\n",
       "      <td>2.590017</td>\n",
       "      <td>2.407846</td>\n",
       "      <td>2</td>\n",
       "      <td>1</td>\n",
       "      <td>2</td>\n",
       "      <td>1</td>\n",
       "      <td>2</td>\n",
       "      <td>1</td>\n",
       "      <td>NaN</td>\n",
       "      <td>0.0</td>\n",
       "    </tr>\n",
       "    <tr>\n",
       "      <th>~01000740f61cb7d11d</th>\n",
       "      <td>Savona</td>\n",
       "      <td>Italy</td>\n",
       "      <td>Hi, my name is Vito Potenza and I am a freelan...</td>\n",
       "      <td>3.0</td>\n",
       "      <td>11.11</td>\n",
       "      <td>0.000000</td>\n",
       "      <td>3.0</td>\n",
       "      <td>Aug 09 72</td>\n",
       "      <td>0.0</td>\n",
       "      <td>False</td>\n",
       "      <td>...</td>\n",
       "      <td>2.407846</td>\n",
       "      <td>NaN</td>\n",
       "      <td>2</td>\n",
       "      <td>2</td>\n",
       "      <td>2</td>\n",
       "      <td>3</td>\n",
       "      <td>2</td>\n",
       "      <td>3</td>\n",
       "      <td>NaN</td>\n",
       "      <td>NaN</td>\n",
       "    </tr>\n",
       "  </tbody>\n",
       "</table>\n",
       "<p>4 rows × 50 columns</p>\n",
       "</div>"
      ],
      "text/plain": [
       "                         city        country  \\\n",
       "~010004a03173568fbf  Mykolaiv        Ukraine   \n",
       "~01000625aff3ab5e04   Kharkiv        Ukraine   \n",
       "~010006ca29e70cb78d    Durand  United States   \n",
       "~01000740f61cb7d11d    Savona          Italy   \n",
       "\n",
       "                                                           description  \\\n",
       "~010004a03173568fbf  Hey! \\n\\nI am Dmitry, and I am experienced dev...   \n",
       "~01000625aff3ab5e04  I'm a lead of a small mobile team of skilled d...   \n",
       "~010006ca29e70cb78d                                                  .   \n",
       "~01000740f61cb7d11d  Hi, my name is Vito Potenza and I am a freelan...   \n",
       "\n",
       "                     feedbacks  hourly_rate  hours_worked  jobs_worked  \\\n",
       "~010004a03173568fbf        2.0        26.00    974.000000          2.0   \n",
       "~01000625aff3ab5e04        2.0        24.00    100.000000          2.0   \n",
       "~010006ca29e70cb78d       19.0        13.33     18.833333         22.0   \n",
       "~01000740f61cb7d11d        3.0        11.11      0.000000          3.0   \n",
       "\n",
       "                    last_active  portfolio private          ...           \\\n",
       "~010004a03173568fbf   Apr 09 86        0.0   False          ...            \n",
       "~01000625aff3ab5e04   Aug 13 94        0.0   False          ...            \n",
       "~010006ca29e70cb78d   Apr 29 10        0.0   False          ...            \n",
       "~01000740f61cb7d11d   Aug 09 72        0.0   False          ...            \n",
       "\n",
       "                    log_requested_wage log_realized_wage  \\\n",
       "~010004a03173568fbf           3.258097          2.498563   \n",
       "~01000625aff3ab5e04           3.178054          3.178054   \n",
       "~010006ca29e70cb78d           2.590017          2.407846   \n",
       "~01000740f61cb7d11d           2.407846               NaN   \n",
       "\n",
       "                     cp_num_USwork_groups_morethan1  \\\n",
       "~010004a03173568fbf                               2   \n",
       "~01000625aff3ab5e04                               1   \n",
       "~010006ca29e70cb78d                               2   \n",
       "~01000740f61cb7d11d                               2   \n",
       "\n",
       "                    cp_num_nonUSwork_groups_morethan1  \\\n",
       "~010004a03173568fbf                                 2   \n",
       "~01000625aff3ab5e04                                 1   \n",
       "~010006ca29e70cb78d                                 1   \n",
       "~01000740f61cb7d11d                                 2   \n",
       "\n",
       "                    cp_num_USwork_groups_trunc cp_num_nonUSwork_groups_trunc  \\\n",
       "~010004a03173568fbf                          2                             3   \n",
       "~01000625aff3ab5e04                          1                             1   \n",
       "~010006ca29e70cb78d                          2                             1   \n",
       "~01000740f61cb7d11d                          2                             3   \n",
       "\n",
       "                    cp_num_USwork_groups_trunc3  \\\n",
       "~010004a03173568fbf                           2   \n",
       "~01000625aff3ab5e04                           1   \n",
       "~010006ca29e70cb78d                           2   \n",
       "~01000740f61cb7d11d                           2   \n",
       "\n",
       "                    cp_num_nonUSwork_groups_trunc3  cp_single_USgroup  \\\n",
       "~010004a03173568fbf                              3                NaN   \n",
       "~01000625aff3ab5e04                              1                1.0   \n",
       "~010006ca29e70cb78d                              1                NaN   \n",
       "~01000740f61cb7d11d                              3                NaN   \n",
       "\n",
       "                     cp_single_nonUSgroup  \n",
       "~010004a03173568fbf                   NaN  \n",
       "~01000625aff3ab5e04                   2.0  \n",
       "~010006ca29e70cb78d                   0.0  \n",
       "~01000740f61cb7d11d                   NaN  \n",
       "\n",
       "[4 rows x 50 columns]"
      ]
     },
     "execution_count": 4,
     "metadata": {},
     "output_type": "execute_result"
    }
   ],
   "source": [
    "skillJobData[1:5]"
   ]
  },
  {
   "cell_type": "markdown",
   "metadata": {},
   "source": [
    "### 技能画像"
   ]
  },
  {
   "cell_type": "code",
   "execution_count": 4,
   "metadata": {
    "ExecuteTime": {
     "end_time": "2019-06-06T07:31:16.404687Z",
     "start_time": "2019-06-06T07:31:16.399198Z"
    }
   },
   "outputs": [],
   "source": [
    "# 获取所有技能的词向量\n",
    "def get_skill_vec(skills):\n",
    "    skill_vecs = []\n",
    "    for skill in skills:\n",
    "        #分别处理各个技能\n",
    "        for word in re.split('-|/', skill):\n",
    "            # 将技能词组拆分为单词\n",
    "            if word in vecs:\n",
    "                skill_vecs += [vecs[word]]\n",
    "    return skill_vecs"
   ]
  },
  {
   "cell_type": "code",
   "execution_count": 8,
   "metadata": {
    "ExecuteTime": {
     "end_time": "2019-06-06T07:36:41.075713Z",
     "start_time": "2019-06-06T07:36:41.069670Z"
    }
   },
   "outputs": [],
   "source": [
    "# 一个人的技能画像\n",
    "def skill_portrait(skills):\n",
    "    # 获取此人的所有技能词向量\n",
    "    s_vecs = get_skill_vec(skills)\n",
    "    \n",
    "    # 特殊情形处理\n",
    "    if len(s_vecs) == 0:\n",
    "        # 若没有数据，返回两个0向量\n",
    "        return np.array([[0.] * 25, [0.] * 25])\n",
    "    if len(s_vecs) == 1:\n",
    "        # 若只有一个向量，返回两个相同的向量\n",
    "        return np.array([s_vecs[0], s_vecs[0]])\n",
    "    if len(s_vecs) == 2:\n",
    "        # 若只有两个向量，直接返回这两个向量\n",
    "        return np.array(s_vecs)\n",
    "    \n",
    "    # 确保词向量不是完全相同的\n",
    "    t = True\n",
    "    for i in range(len(s_vecs) - 1):\n",
    "        t = t & (s_vecs[i] == s_vecs[i+1])\n",
    "    if t:\n",
    "        # 若全都相同，则返回前两个向量\n",
    "        return np.array(s_vecs[:2])\n",
    "    \n",
    "    #用K-Means方法将词向量分为两簇\n",
    "    kmeans = KMeans(n_clusters=2).fit(s_vecs)\n",
    "    \n",
    "    # 返回两簇的中心\n",
    "    return np.array(kmeans.cluster_centers_)"
   ]
  },
  {
   "cell_type": "markdown",
   "metadata": {},
   "source": [
    "测试："
   ]
  },
  {
   "cell_type": "code",
   "execution_count": 9,
   "metadata": {
    "ExecuteTime": {
     "end_time": "2019-06-06T07:36:44.982296Z",
     "start_time": "2019-06-06T07:36:44.976665Z"
    }
   },
   "outputs": [
    {
     "name": "stdout",
     "output_type": "stream",
     "text": [
      "skill: ['data-entry']\n"
     ]
    },
    {
     "data": {
      "text/plain": [
       "array([[ 1.1666  ,  0.35531 , -0.29362 , -0.52206 ,  1.4224  , -0.30116 ,\n",
       "         0.045792, -0.028705,  1.8792  ,  0.28175 ,  0.55703 , -0.71944 ,\n",
       "        -3.0101  ,  0.41258 ,  0.3052  , -0.12702 , -0.25783 ,  0.90687 ,\n",
       "        -0.026371, -1.0942  , -1.03    , -1.2379  , -0.65783 ,  0.14663 ,\n",
       "        -1.3532  ],\n",
       "       [-0.2789  ,  1.0225  , -0.18295 , -0.76763 ,  0.79161 , -1.0646  ,\n",
       "         0.40288 , -0.85806 ,  0.72177 , -0.23864 ,  0.57031 ,  0.2479  ,\n",
       "        -2.6287  ,  0.74601 ,  0.053133, -0.11872 ,  0.62547 , -0.44052 ,\n",
       "        -0.81874 , -0.12305 , -1.1949  , -1.7244  ,  0.059832,  0.18729 ,\n",
       "        -0.6976  ]])"
      ]
     },
     "execution_count": 9,
     "metadata": {},
     "output_type": "execute_result"
    }
   ],
   "source": [
    "print('skill:', skillJobData.skills[400])\n",
    "skill_portrait(skillJobData.skills[400])"
   ]
  },
  {
   "cell_type": "markdown",
   "metadata": {},
   "source": [
    "### 构造训练数据"
   ]
  },
  {
   "cell_type": "code",
   "execution_count": 12,
   "metadata": {
    "ExecuteTime": {
     "end_time": "2019-06-06T07:44:17.336674Z",
     "start_time": "2019-06-06T07:42:13.111454Z"
    }
   },
   "outputs": [],
   "source": [
    "# 所有人的技能画像\n",
    "skill_shapes = list(map(skill_portrait, skillJobData.skills))\n",
    "# 所有人收入\n",
    "incomes = skillJobData.log_realized_wage"
   ]
  },
  {
   "cell_type": "code",
   "execution_count": 15,
   "metadata": {
    "ExecuteTime": {
     "end_time": "2019-06-06T07:44:37.049464Z",
     "start_time": "2019-06-06T07:44:37.044750Z"
    }
   },
   "outputs": [
    {
     "name": "stdout",
     "output_type": "stream",
     "text": [
      "18283 18283\n"
     ]
    }
   ],
   "source": [
    "# 确保数据长度相同\n",
    "print(len(skill_shapes),len(incomes))"
   ]
  },
  {
   "cell_type": "code",
   "execution_count": 21,
   "metadata": {
    "ExecuteTime": {
     "end_time": "2019-06-06T07:46:05.298081Z",
     "start_time": "2019-06-06T07:46:04.350436Z"
    },
    "scrolled": true
   },
   "outputs": [],
   "source": [
    "si_data = pd.DataFrame({'skill_shapes':skill_shapes, 'incomes':incomes}).dropna() # 删除NaN\n",
    "skill_shapes = list(si_data.skill_shapes) # 获取清理后的技能画像\n",
    "incomes = list(si_data.incomes) # 获取清理后的收入\n",
    "\n",
    "# 存储数据\n",
    "train_database = pd.DataFrame(([list(np.append(ss.flatten(), ic)) for ss,ic in zip(skill_shapes, incomes)]))\n",
    "train_database.to_csv('./data/train_data.csv')"
   ]
  },
  {
   "cell_type": "markdown",
   "metadata": {},
   "source": [
    "# 模型"
   ]
  },
  {
   "cell_type": "markdown",
   "metadata": {},
   "source": [
    "## 导入训练数据"
   ]
  },
  {
   "cell_type": "code",
   "execution_count": 2,
   "metadata": {
    "ExecuteTime": {
     "end_time": "2019-06-19T09:18:47.668327Z",
     "start_time": "2019-06-19T09:18:47.516494Z"
    }
   },
   "outputs": [],
   "source": [
    "# 导入训练数据\n",
    "train_database = pd.read_csv('./data/train_data.csv')\n",
    "skill_shapes = np.array(train_database).T[1:-1].T\n",
    "incomes = np.array(train_database).T[-1]"
   ]
  },
  {
   "cell_type": "markdown",
   "metadata": {},
   "source": [
    "## NN模型"
   ]
  },
  {
   "cell_type": "code",
   "execution_count": 20,
   "metadata": {
    "ExecuteTime": {
     "end_time": "2019-06-19T10:05:09.211771Z",
     "start_time": "2019-06-19T10:05:09.203546Z"
    }
   },
   "outputs": [],
   "source": [
    "class JobNet(nn.Module):\n",
    "    def __init__(self):\n",
    "        super(JobNet, self).__init__()\n",
    "        self.fcn1 = nn.Linear(50, 50)\n",
    "        self.fcn1_p = nn.Linear(50, 25)\n",
    "        self.fcn2 = nn.Linear(25, 10)\n",
    "        self.fcn3 = nn.Linear(10, 1)\n",
    "        \n",
    "        self.slope = 0.1\n",
    "        self.LeakyReLU = nn.LeakyReLU(negative_slope=self.slope)\n",
    "    def forward(self, x):\n",
    "        # 三层fcn网络\n",
    "        x = self.LeakyReLU(self.fcn1(x))\n",
    "        x = self.LeakyReLU(self.fcn1_p(x))\n",
    "        x = self.LeakyReLU(self.fcn2(x))\n",
    "        x = self.LeakyReLU(self.fcn3(x))\n",
    "        \n",
    "        return x\n",
    "\n",
    "# 训练数据\n",
    "class JobData(dataset.Dataset):\n",
    "    def __init__(self, skillvecs, income):\n",
    "        super(JobData, self).__init__()\n",
    "        self.skillvecs = torch.Tensor(list(map(lambda x:list(x.flatten()), skillvecs)))\n",
    "        self.income = torch.Tensor(income).reshape(len(income),1)\n",
    "        self.length = len(skillvecs)\n",
    "    def __len__(self):\n",
    "        return self.length\n",
    "    def __getitem__(self, index):\n",
    "        return self.skillvecs[index], self.income[index]\n",
    "    def cuda(self):\n",
    "        self.income = self.income.cuda()\n",
    "        self.skillvecs = self.skillvecs.cuda()"
   ]
  },
  {
   "cell_type": "markdown",
   "metadata": {},
   "source": [
    "## 训练"
   ]
  },
  {
   "cell_type": "code",
   "execution_count": 22,
   "metadata": {
    "ExecuteTime": {
     "end_time": "2019-06-19T10:55:40.329072Z",
     "start_time": "2019-06-19T10:06:33.561047Z"
    },
    "scrolled": true
   },
   "outputs": [
    {
     "name": "stdout",
     "output_type": "stream",
     "text": [
      "epco 1000 loss: 0.4787339894488986\n",
      "epco 2000 loss: 0.38013122379580244\n",
      "epco 3000 loss: 0.346432007774072\n",
      "epco 4000 loss: 0.3280990387016641\n",
      "epco 5000 loss: 0.31593037802193846\n",
      "epco 6000 loss: 0.30729712533833725\n",
      "epco 7000 loss: 0.30073443783260884\n",
      "epco 8000 loss: 0.29525398844020173\n",
      "epco 9000 loss: 0.29149701925979127\n",
      "epco 10000 loss: 0.2885281990805641\n"
     ]
    }
   ],
   "source": [
    "# 网络、数据\n",
    "train_set_size = 14000\n",
    "testNet = JobNet()\n",
    "testData = JobData(skill_shapes[:train_set_size], incomes[:train_set_size])\n",
    "testData.cuda()\n",
    "\n",
    "bsize = 50\n",
    "\n",
    "dataloader = dataset.DataLoader(testData, batch_size=bsize, shuffle=True)\n",
    "\n",
    "testNet.cuda()\n",
    "\n",
    "loss_fn = torch.nn.MSELoss()\n",
    "loss_fn.cuda()\n",
    "\n",
    "optimizer = optim.SGD(testNet.parameters(), lr = 2e-4, momentum=0.9, weight_decay=0.0002)\n",
    "#optimizer = optim.SGD(testNet.parameters(), lr = 1e-12)\n",
    "\n",
    "epco_loss = 0\n",
    "acc_count = 0\n",
    "loss_list = []\n",
    "\n",
    "dt=1000\n",
    "n=0\n",
    "# 训练\n",
    "for epco in range(10 * dt):\n",
    "    for inputdata, target in dataloader:\n",
    "        optimizer.zero_grad()\n",
    "\n",
    "        output = testNet.forward(inputdata)\n",
    "\n",
    "        loss = loss_fn(output, target)\n",
    "        epco_loss = epco_loss + loss.item()\n",
    "        n += 1\n",
    "\n",
    "        # 每个batch更新一次权重\n",
    "        loss.backward()\n",
    "        optimizer.step()\n",
    "    if (epco + 1) % dt == 0:\n",
    "        print('epco', (epco + 1), 'loss:', epco_loss / n)\n",
    "        loss_list.append(epco_loss / n)\n",
    "        epco_loss = 0\n",
    "        n = 0"
   ]
  },
  {
   "cell_type": "markdown",
   "metadata": {},
   "source": [
    "# 分析"
   ]
  },
  {
   "cell_type": "markdown",
   "metadata": {},
   "source": [
    "## 比较真实收入-预测收入"
   ]
  },
  {
   "cell_type": "markdown",
   "metadata": {},
   "source": [
    "### 训练集"
   ]
  },
  {
   "cell_type": "code",
   "execution_count": 26,
   "metadata": {
    "ExecuteTime": {
     "end_time": "2019-06-19T10:56:35.165324Z",
     "start_time": "2019-06-19T10:56:31.832615Z"
    }
   },
   "outputs": [
    {
     "data": {
      "image/png": "[encoded data removed]",
      "text/plain": [
       "<Figure size 432x432 with 3 Axes>"
      ]
     },
     "metadata": {},
     "output_type": "display_data"
    }
   ],
   "source": [
    "sb.set()\n",
    "\n",
    "predict = [testNet.forward(torch.Tensor(sks.flatten()).cuda()).item() for sks in skill_shapes[:train_set_size]]\n",
    "real = [inc for inc in incomes[:train_set_size]]\n",
    "\n",
    "g = sb.jointplot(x='real income', y='predict income', data=pd.DataFrame({'predict income':predict, 'real income':real}), alpha=0.1)"
   ]
  },
  {
   "cell_type": "markdown",
   "metadata": {},
   "source": [
    "### 测试集"
   ]
  },
  {
   "cell_type": "code",
   "execution_count": 24,
   "metadata": {
    "ExecuteTime": {
     "end_time": "2019-06-19T10:56:00.606855Z",
     "start_time": "2019-06-19T10:55:59.401439Z"
    },
    "scrolled": false
   },
   "outputs": [
    {
     "data": {
      "image/png": "[encoded data removed]",
      "text/plain": [
       "<Figure size 432x432 with 3 Axes>"
      ]
     },
     "metadata": {},
     "output_type": "display_data"
    }
   ],
   "source": [
    "sb.set()\n",
    "\n",
    "predict = [testNet.forward(torch.Tensor(sks.flatten()).cuda()).item() for sks in skill_shapes[train_set_size:]]\n",
    "real = [inc for inc in incomes[train_set_size:]]\n",
    "\n",
    "g = sb.jointplot(x='real income', y='predict income', data=pd.DataFrame({'predict income':predict, 'real income':real}), alpha=0.1)\n",
    "#g.set(ylim=(0, None), xlim=(0, None))"
   ]
  },
  {
   "cell_type": "code",
   "execution_count": 18,
   "metadata": {
    "ExecuteTime": {
     "end_time": "2019-06-18T15:23:39.431804Z",
     "start_time": "2019-06-18T15:23:39.392822Z"
    }
   },
   "outputs": [],
   "source": [
    "predict_real = pd.DataFrame({'predict':predict, 'real':real})\n",
    "predict_real.to_csv('./data/predict_real.csv')"
   ]
  },
  {
   "cell_type": "markdown",
   "metadata": {},
   "source": [
    "## 预测准确度"
   ]
  },
  {
   "cell_type": "markdown",
   "metadata": {},
   "source": [
    "训练集：76.8%\n",
    "\n",
    "测试集：52.5%"
   ]
  },
  {
   "cell_type": "code",
   "execution_count": 27,
   "metadata": {
    "ExecuteTime": {
     "end_time": "2019-06-19T10:56:39.986434Z",
     "start_time": "2019-06-19T10:56:39.975891Z"
    }
   },
   "outputs": [
    {
     "name": "stdout",
     "output_type": "stream",
     "text": [
      "acc= 0.7679285714285714\n"
     ]
    }
   ],
   "source": [
    "income_s = np.median(real)\n",
    "\n",
    "n = 0\n",
    "t = 0\n",
    "\n",
    "# 以中位数收入为标准，确定高低收入\n",
    "# 测试其预测准确度\n",
    "for p,r in zip(predict, real):\n",
    "    n += 1\n",
    "    if ((r > income_s) & (p > income_s)) | ((r < income_s) & (p < income_s)):\n",
    "        t += 1\n",
    "\n",
    "print('acc=',t/n)"
   ]
  },
  {
   "cell_type": "code",
   "execution_count": null,
   "metadata": {},
   "outputs": [],
   "source": []
  }
 ],
 "metadata": {
  "kernelspec": {
   "display_name": "Python 3",
   "language": "python",
   "name": "python3"
  },
  "language_info": {
   "codemirror_mode": {
    "name": "ipython",
    "version": 3
   },
   "file_extension": ".py",
   "mimetype": "text/x-python",
   "name": "python",
   "nbconvert_exporter": "python",
   "pygments_lexer": "ipython3",
   "version": "3.7.1"
  },
  "toc": {
   "base_numbering": 1,
   "nav_menu": {},
   "number_sections": true,
   "sideBar": true,
   "skip_h1_title": false,
   "title_cell": "Table of Contents",
   "title_sidebar": "Contents",
   "toc_cell": false,
   "toc_position": {
    "height": "calc(100% - 180px)",
    "left": "10px",
    "top": "150px",
    "width": "315.390625px"
   },
   "toc_section_display": true,
   "toc_window_display": true
  }
 },
 "nbformat": 4,
 "nbformat_minor": 2
}
