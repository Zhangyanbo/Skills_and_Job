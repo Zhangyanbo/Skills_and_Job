{
 "cells": [
  {
   "cell_type": "code",
   "execution_count": 97,
   "metadata": {
    "ExecuteTime": {
     "end_time": "2019-07-20T04:55:44.626498Z",
     "start_time": "2019-07-20T04:55:44.621772Z"
    }
   },
   "outputs": [],
   "source": [
    "from gensim.models import Word2Vec\n",
    "import numpy as np"
   ]
  },
  {
   "cell_type": "markdown",
   "metadata": {},
   "source": [
    "# Import training data"
   ]
  },
  {
   "cell_type": "code",
   "execution_count": 10,
   "metadata": {
    "ExecuteTime": {
     "end_time": "2019-07-20T04:16:45.215079Z",
     "start_time": "2019-07-20T04:16:45.185421Z"
    }
   },
   "outputs": [
    {
     "name": "stdout",
     "output_type": "stream",
     "text": [
      "total len = 19332\n"
     ]
    }
   ],
   "source": [
    "import csv\n",
    "\n",
    "trainingData = []\n",
    "\n",
    "with open('./data/word2vec_train_data.csv') as file:\n",
    "    train_file = csv.reader(file)\n",
    "    \n",
    "    for row in train_file:\n",
    "        trainingData.append(row)\n",
    "print('total len =', len(trainingData))"
   ]
  },
  {
   "cell_type": "code",
   "execution_count": 89,
   "metadata": {
    "ExecuteTime": {
     "end_time": "2019-07-20T04:49:54.890225Z",
     "start_time": "2019-07-20T04:49:53.542767Z"
    }
   },
   "outputs": [
    {
     "data": {
      "text/plain": [
       "193320"
      ]
     },
     "execution_count": 89,
     "metadata": {},
     "output_type": "execute_result"
    }
   ],
   "source": [
    "import copy\n",
    "\n",
    "trainingData_suffle = []\n",
    "\n",
    "times = 10\n",
    "for skills in trainingData:\n",
    "    skills_ = skills\n",
    "    for i in range(times):\n",
    "        random.shuffle(skills_)\n",
    "        skills_copy = copy.deepcopy(skills_)\n",
    "        trainingData_suffle.append(skills_copy)\n",
    "len(trainingData_suffle)"
   ]
  },
  {
   "cell_type": "markdown",
   "metadata": {},
   "source": [
    "# Co-occurrence Matrix"
   ]
  },
  {
   "cell_type": "code",
   "execution_count": 114,
   "metadata": {
    "ExecuteTime": {
     "end_time": "2019-07-20T05:00:44.530113Z",
     "start_time": "2019-07-20T05:00:44.514640Z"
    }
   },
   "outputs": [
    {
     "name": "stdout",
     "output_type": "stream",
     "text": [
      "total skill: 2185\n"
     ]
    }
   ],
   "source": [
    "word_dict = {}\n",
    "k = -1\n",
    "\n",
    "for skills in trainingData:\n",
    "    for skill in skills:\n",
    "        if not(skill in word_dict):\n",
    "            k += 1\n",
    "            word_dict[skill] = k\n",
    "total_skill = k + 1\n",
    "print('total skill:', total_skill)"
   ]
  },
  {
   "cell_type": "code",
   "execution_count": 154,
   "metadata": {
    "ExecuteTime": {
     "end_time": "2019-07-20T05:08:54.351301Z",
     "start_time": "2019-07-20T05:08:53.785100Z"
    }
   },
   "outputs": [],
   "source": [
    "co_occur_mat = np.zeros((total_skill,total_skill))\n",
    "\n",
    "for skills in trainingData:\n",
    "    l = len(skills)\n",
    "    for i in range(l):\n",
    "        for j in range(l):\n",
    "            if i != j:\n",
    "                skill_a = skills[i]\n",
    "                skill_b = skills[j]\n",
    "                co_occur_mat[word_dict[skill_a]][word_dict[skill_b]] += 1."
   ]
  },
  {
   "cell_type": "code",
   "execution_count": 155,
   "metadata": {
    "ExecuteTime": {
     "end_time": "2019-07-20T05:08:56.406288Z",
     "start_time": "2019-07-20T05:08:56.387189Z"
    }
   },
   "outputs": [],
   "source": [
    "count = np.sum(co_occur_mat, axis=1)\n",
    "for i in range(len(count)):\n",
    "    if count[i] == 0:\n",
    "        count[i] = 1\n",
    "\n",
    "co_occur_mat = (co_occur_mat.T / count).T"
   ]
  },
  {
   "cell_type": "code",
   "execution_count": 178,
   "metadata": {
    "ExecuteTime": {
     "end_time": "2019-07-20T05:56:07.851518Z",
     "start_time": "2019-07-20T05:56:07.835129Z"
    }
   },
   "outputs": [],
   "source": [
    "np.save('./data/co_occur.npy', co_occur_mat)"
   ]
  },
  {
   "cell_type": "code",
   "execution_count": 158,
   "metadata": {
    "ExecuteTime": {
     "end_time": "2019-07-20T05:09:09.087562Z",
     "start_time": "2019-07-20T05:09:09.082570Z"
    }
   },
   "outputs": [
    {
     "data": {
      "text/plain": [
       "array([3.32477451e-03, 0.00000000e+00, 2.61044177e-02, ...,\n",
       "       0.00000000e+00, 0.00000000e+00, 3.29185595e-05])"
      ]
     },
     "execution_count": 158,
     "metadata": {},
     "output_type": "execute_result"
    }
   ],
   "source": [
    "co_occur_mat[1]"
   ]
  },
  {
   "cell_type": "code",
   "execution_count": 161,
   "metadata": {
    "ExecuteTime": {
     "end_time": "2019-07-20T05:09:26.184592Z",
     "start_time": "2019-07-20T05:09:26.179651Z"
    }
   },
   "outputs": [
    {
     "data": {
      "text/plain": [
       "(2185, 2185)"
      ]
     },
     "execution_count": 161,
     "metadata": {},
     "output_type": "execute_result"
    }
   ],
   "source": [
    "co_occur_mat.shape"
   ]
  },
  {
   "cell_type": "markdown",
   "metadata": {},
   "source": [
    "# Model"
   ]
  },
  {
   "cell_type": "code",
   "execution_count": 90,
   "metadata": {
    "ExecuteTime": {
     "end_time": "2019-07-20T04:50:00.398315Z",
     "start_time": "2019-07-20T04:49:58.566689Z"
    }
   },
   "outputs": [],
   "source": [
    "model = Word2Vec(trainingData_suffle, size=32, window=20, min_count=1, workers=3)"
   ]
  },
  {
   "cell_type": "code",
   "execution_count": 177,
   "metadata": {
    "ExecuteTime": {
     "end_time": "2019-07-20T05:54:41.340585Z",
     "start_time": "2019-07-20T05:54:41.331564Z"
    }
   },
   "outputs": [],
   "source": [
    "model.save('./data/word2vec.model')"
   ]
  },
  {
   "cell_type": "code",
   "execution_count": null,
   "metadata": {},
   "outputs": [],
   "source": [
    "model = Word2Vec.load('./data/word2vec.model')"
   ]
  },
  {
   "cell_type": "code",
   "execution_count": 95,
   "metadata": {
    "ExecuteTime": {
     "end_time": "2019-07-20T04:51:52.332337Z",
     "start_time": "2019-07-20T04:51:52.326334Z"
    }
   },
   "outputs": [
    {
     "name": "stdout",
     "output_type": "stream",
     "text": [
      "['python', 'html'] 0.0064916536\n",
      "['css3', 'html'] 0.12708811\n",
      "['physics', 'mathematics'] 0.7964257\n"
     ]
    }
   ],
   "source": [
    "print(['python','html'], model.wv.similarity('python','html'))\n",
    "print(['css3','html'], model.wv.similarity('css3','html'))\n",
    "print(['physics','mathematics'], model.wv.similarity('physics','mathematics'))"
   ]
  },
  {
   "cell_type": "code",
   "execution_count": 92,
   "metadata": {
    "ExecuteTime": {
     "end_time": "2019-07-20T04:50:06.970514Z",
     "start_time": "2019-07-20T04:50:06.950768Z"
    }
   },
   "outputs": [
    {
     "data": {
      "text/plain": [
       "[('mathematics', 0.7964256405830383),\n",
       " ('mathematica', 0.757845401763916),\n",
       " ('calculus', 0.7297621369361877),\n",
       " ('scientific-research', 0.7113232612609863),\n",
       " ('geology', 0.7097221612930298),\n",
       " ('teaching-algebra', 0.692982017993927),\n",
       " ('legal-translation', 0.6870766282081604),\n",
       " ('digital-signal-processing', 0.6813245415687561),\n",
       " ('computer-vision', 0.6722491383552551),\n",
       " ('linguistics', 0.6693482995033264)]"
      ]
     },
     "execution_count": 92,
     "metadata": {},
     "output_type": "execute_result"
    }
   ],
   "source": [
    "model.wv.most_similar(positive=['physics'], topn=10)"
   ]
  },
  {
   "cell_type": "code",
   "execution_count": 94,
   "metadata": {
    "ExecuteTime": {
     "end_time": "2019-07-20T04:51:45.469875Z",
     "start_time": "2019-07-20T04:51:45.464254Z"
    }
   },
   "outputs": [
    {
     "data": {
      "text/plain": [
       "[('fbml', 0.5594080686569214),\n",
       " ('css3', 0.5570359826087952),\n",
       " ('modx', 0.5312826633453369),\n",
       " ('skadate', 0.511943519115448),\n",
       " ('psd-to-xhtml', 0.5101155042648315),\n",
       " ('psd-to-html', 0.4957699775695801),\n",
       " ('psd-to-wordpress', 0.4899706244468689),\n",
       " ('psd-to-mailchimp', 0.48001211881637573),\n",
       " ('smarty', 0.4793943166732788),\n",
       " ('1shoppingcart', 0.4790232181549072)]"
      ]
     },
     "execution_count": 94,
     "metadata": {},
     "output_type": "execute_result"
    }
   ],
   "source": [
    "model.wv.most_similar(positive=['css'], topn=10)"
   ]
  },
  {
   "cell_type": "code",
   "execution_count": 176,
   "metadata": {
    "ExecuteTime": {
     "end_time": "2019-07-20T05:53:59.175698Z",
     "start_time": "2019-07-20T05:53:59.172955Z"
    }
   },
   "outputs": [
    {
     "data": {
      "text/plain": [
       "2185"
      ]
     },
     "execution_count": 176,
     "metadata": {},
     "output_type": "execute_result"
    }
   ],
   "source": [
    "len(model.wv.vocab)"
   ]
  },
  {
   "cell_type": "code",
   "execution_count": null,
   "metadata": {},
   "outputs": [],
   "source": [
    "class CBOW(nn.Module):\n",
    "    def __init__(self, totalSkill, dim=32):\n",
    "        super(CBOW, self).__init__()\n",
    "        \n",
    "        self.embed = nn.EmbeddingBag(totalSkill, dim, mode='mean')\n",
    "        self.decode = nn.Linear(dim, totalSkill, bias=False)\n",
    "        \n",
    "    def forward(self, x):\n",
    "        h = self.embed(x)\n",
    "        p = F.log_softmax(self.decode(x))\n",
    "        return p\n",
    "    def embedding(self, x):\n",
    "        h = self.embed(x)\n",
    "        return h\n",
    "    def predict(self, x):\n",
    "        return torch.exp(self.forward(x))"
   ]
  },
  {
   "cell_type": "code",
   "execution_count": 6,
   "metadata": {
    "ExecuteTime": {
     "end_time": "2019-07-20T03:29:13.015256Z",
     "start_time": "2019-07-20T03:29:13.009728Z"
    }
   },
   "outputs": [
    {
     "name": "stdout",
     "output_type": "stream",
     "text": [
      "tensor([[-3.4402, -2.4402, -1.4402, -0.4402]])\n",
      "tensor([[-3.4402, -2.4402, -1.4402, -0.4402],\n",
      "        [-3.4402, -2.4402, -1.4402, -0.4402]])\n"
     ]
    },
    {
     "name": "stderr",
     "output_type": "stream",
     "text": [
      "/home/yanbo/anaconda3/lib/python3.7/site-packages/ipykernel_launcher.py:1: UserWarning: Implicit dimension choice for log_softmax has been deprecated. Change the call to include dim=X as an argument.\n",
      "  \"\"\"Entry point for launching an IPython kernel.\n",
      "/home/yanbo/anaconda3/lib/python3.7/site-packages/ipykernel_launcher.py:2: UserWarning: Implicit dimension choice for log_softmax has been deprecated. Change the call to include dim=X as an argument.\n",
      "  \n"
     ]
    }
   ],
   "source": [
    "print(F.log_softmax(torch.Tensor([[1,2,3,4]])))\n",
    "print(F.log_softmax(torch.Tensor([[1,2,3,4],[5,6,7,8]])))"
   ]
  },
  {
   "cell_type": "code",
   "execution_count": 1,
   "metadata": {
    "ExecuteTime": {
     "end_time": "2019-07-20T04:04:04.831488Z",
     "start_time": "2019-07-20T04:04:04.829159Z"
    }
   },
   "outputs": [],
   "source": [
    "# 引入数据集\n",
    "raw_sentences = [\"the quick brown fox jumps over the lazy dogs\",\"yoyoyo you go home now to sleep\"]\n",
    "\n",
    "# 切分词汇\n",
    "sentences= [s.encode('utf-8').split() for s in raw_sentences]"
   ]
  },
  {
   "cell_type": "code",
   "execution_count": 2,
   "metadata": {
    "ExecuteTime": {
     "end_time": "2019-07-20T04:04:05.984075Z",
     "start_time": "2019-07-20T04:04:05.976298Z"
    }
   },
   "outputs": [
    {
     "data": {
      "text/plain": [
       "[[b'the',\n",
       "  b'quick',\n",
       "  b'brown',\n",
       "  b'fox',\n",
       "  b'jumps',\n",
       "  b'over',\n",
       "  b'the',\n",
       "  b'lazy',\n",
       "  b'dogs'],\n",
       " [b'yoyoyo', b'you', b'go', b'home', b'now', b'to', b'sleep']]"
      ]
     },
     "execution_count": 2,
     "metadata": {},
     "output_type": "execute_result"
    }
   ],
   "source": [
    "sentences"
   ]
  },
  {
   "cell_type": "code",
   "execution_count": null,
   "metadata": {},
   "outputs": [],
   "source": []
  }
 ],
 "metadata": {
  "kernelspec": {
   "display_name": "Python 3",
   "language": "python",
   "name": "python3"
  },
  "language_info": {
   "codemirror_mode": {
    "name": "ipython",
    "version": 3
   },
   "file_extension": ".py",
   "mimetype": "text/x-python",
   "name": "python",
   "nbconvert_exporter": "python",
   "pygments_lexer": "ipython3",
   "version": "3.7.1"
  },
  "toc": {
   "base_numbering": 1,
   "nav_menu": {},
   "number_sections": true,
   "sideBar": true,
   "skip_h1_title": false,
   "title_cell": "Table of Contents",
   "title_sidebar": "Contents",
   "toc_cell": false,
   "toc_position": {},
   "toc_section_display": true,
   "toc_window_display": true
  }
 },
 "nbformat": 4,
 "nbformat_minor": 2
}
